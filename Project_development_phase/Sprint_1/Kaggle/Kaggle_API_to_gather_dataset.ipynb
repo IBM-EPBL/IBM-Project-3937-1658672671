{
  "nbformat": 4,
  "nbformat_minor": 0,
  "metadata": {
    "colab": {
      "provenance": []
    },
    "kernelspec": {
      "name": "python3",
      "display_name": "Python 3"
    },
    "language_info": {
      "name": "python"
    }
  },
  "cells": [
    {
      "cell_type": "code",
      "execution_count": 1,
      "metadata": {
        "id": "NF9dHkTALguo"
      },
      "outputs": [],
      "source": [
        "!pip install -q kaggle"
      ]
    },
    {
      "cell_type": "code",
      "source": [
        "!mkdir ~/.kaggle"
      ],
      "metadata": {
        "id": "pKZArfuBMAmX"
      },
      "execution_count": 2,
      "outputs": []
    },
    {
      "cell_type": "markdown",
      "source": [],
      "metadata": {
        "id": "dF52flhIMBRD"
      }
    },
    {
      "cell_type": "code",
      "source": [
        "!cp kaggle.json ~/.kaggle/\n"
      ],
      "metadata": {
        "id": "lJCY1P4EMDo0"
      },
      "execution_count": 4,
      "outputs": []
    },
    {
      "cell_type": "code",
      "source": [
        "!chmod 600 ~/.kaggle/kaggle.json\n"
      ],
      "metadata": {
        "id": "CYAS-ywcM5L7"
      },
      "execution_count": 12,
      "outputs": []
    },
    {
      "cell_type": "code",
      "source": [
        "!kaggle datasets download -d yaminisundar/employee-attrition-analysis"
      ],
      "metadata": {
        "colab": {
          "base_uri": "https://localhost:8080/"
        },
        "id": "f-tSWY1_NClw",
        "outputId": "f9d5a83f-6fa0-4f0a-bdf8-2c79b10f1de8"
      },
      "execution_count": 13,
      "outputs": [
        {
          "output_type": "stream",
          "name": "stdout",
          "text": [
            "Downloading employee-attrition-analysis.zip to /content\n",
            "\r  0% 0.00/93.7k [00:00<?, ?B/s]\n",
            "\r100% 93.7k/93.7k [00:00<00:00, 53.5MB/s]\n"
          ]
        }
      ]
    },
    {
      "cell_type": "code",
      "source": [
        "!unzip /content/employee_attrition_analysis.zip"
      ],
      "metadata": {
        "colab": {
          "base_uri": "https://localhost:8080/"
        },
        "id": "KwhBXaGSQ28l",
        "outputId": "dfe68e5f-e19e-4173-caac-8baab65de6b0"
      },
      "execution_count": 14,
      "outputs": [
        {
          "output_type": "stream",
          "name": "stdout",
          "text": [
            "Archive:  /content/employee_attrition_analysis.zip\n",
            "  inflating: data_dictionary.xlsx    \n",
            "  inflating: employee_survey_data.csv  \n",
            "replace general_data.csv? [y]es, [n]o, [A]ll, [N]one, [r]ename: y\n",
            "  inflating: general_data.csv        \n",
            "  inflating: in_time.csv             \n",
            "  inflating: manager_survey_data.csv  \n",
            "  inflating: out_time.csv            \n"
          ]
        }
      ]
    }
  ]
}